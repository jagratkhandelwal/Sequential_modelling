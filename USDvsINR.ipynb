{
  "nbformat": 4,
  "nbformat_minor": 0,
  "metadata": {
    "colab": {
      "name": "USDvsINR.ipynb",
      "version": "0.3.2",
      "provenance": [],
      "collapsed_sections": []
    },
    "kernelspec": {
      "name": "python3",
      "display_name": "Python 3"
    }
  },
  "cells": [
    {
      "cell_type": "code",
      "metadata": {
        "id": "ghNuK_fy3P5K",
        "colab_type": "code",
        "colab": {}
      },
      "source": [
        "import numpy as np\n",
        "import pandas as pd\n",
        "import matplotlib.pyplot as plt\n",
        "%matplotlib inline"
      ],
      "execution_count": 0,
      "outputs": []
    },
    {
      "cell_type": "code",
      "metadata": {
        "id": "cjDOtwdvvmXs",
        "colab_type": "code",
        "colab": {
          "base_uri": "https://localhost:8080/",
          "height": 198
        },
        "outputId": "b3c02154-3ad8-4dce-bcf1-591da1928f71"
      },
      "source": [
        "# csv should be in raw view\n",
        "url = 'https://raw.githubusercontent.com/neelabhpant/Deep-Learning-in-Python/master/USD_INR.csv'\n",
        "df = pd.read_csv(url)\n",
        "df.head()"
      ],
      "execution_count": 4,
      "outputs": [
        {
          "output_type": "execute_result",
          "data": {
            "text/html": [
              "<div>\n",
              "<style scoped>\n",
              "    .dataframe tbody tr th:only-of-type {\n",
              "        vertical-align: middle;\n",
              "    }\n",
              "\n",
              "    .dataframe tbody tr th {\n",
              "        vertical-align: top;\n",
              "    }\n",
              "\n",
              "    .dataframe thead th {\n",
              "        text-align: right;\n",
              "    }\n",
              "</style>\n",
              "<table border=\"1\" class=\"dataframe\">\n",
              "  <thead>\n",
              "    <tr style=\"text-align: right;\">\n",
              "      <th></th>\n",
              "      <th>Date</th>\n",
              "      <th>Price</th>\n",
              "      <th>Open</th>\n",
              "      <th>High</th>\n",
              "      <th>Low</th>\n",
              "      <th>Change %</th>\n",
              "    </tr>\n",
              "  </thead>\n",
              "  <tbody>\n",
              "    <tr>\n",
              "      <th>0</th>\n",
              "      <td>Aug 10, 2017</td>\n",
              "      <td>64.165</td>\n",
              "      <td>63.898</td>\n",
              "      <td>64.175</td>\n",
              "      <td>63.855</td>\n",
              "      <td>0.48</td>\n",
              "    </tr>\n",
              "    <tr>\n",
              "      <th>1</th>\n",
              "      <td>Aug 09, 2017</td>\n",
              "      <td>63.860</td>\n",
              "      <td>63.780</td>\n",
              "      <td>63.860</td>\n",
              "      <td>63.710</td>\n",
              "      <td>0.26</td>\n",
              "    </tr>\n",
              "    <tr>\n",
              "      <th>2</th>\n",
              "      <td>Aug 08, 2017</td>\n",
              "      <td>63.692</td>\n",
              "      <td>63.750</td>\n",
              "      <td>63.785</td>\n",
              "      <td>63.615</td>\n",
              "      <td>-0.23</td>\n",
              "    </tr>\n",
              "    <tr>\n",
              "      <th>3</th>\n",
              "      <td>Aug 07, 2017</td>\n",
              "      <td>63.840</td>\n",
              "      <td>63.710</td>\n",
              "      <td>63.865</td>\n",
              "      <td>63.648</td>\n",
              "      <td>0.26</td>\n",
              "    </tr>\n",
              "    <tr>\n",
              "      <th>4</th>\n",
              "      <td>Aug 04, 2017</td>\n",
              "      <td>63.675</td>\n",
              "      <td>63.670</td>\n",
              "      <td>63.786</td>\n",
              "      <td>63.572</td>\n",
              "      <td>-0.05</td>\n",
              "    </tr>\n",
              "  </tbody>\n",
              "</table>\n",
              "</div>"
            ],
            "text/plain": [
              "           Date   Price    Open    High     Low  Change %\n",
              "0  Aug 10, 2017  64.165  63.898  64.175  63.855      0.48\n",
              "1  Aug 09, 2017  63.860  63.780  63.860  63.710      0.26\n",
              "2  Aug 08, 2017  63.692  63.750  63.785  63.615     -0.23\n",
              "3  Aug 07, 2017  63.840  63.710  63.865  63.648      0.26\n",
              "4  Aug 04, 2017  63.675  63.670  63.786  63.572     -0.05"
            ]
          },
          "metadata": {
            "tags": []
          },
          "execution_count": 4
        }
      ]
    },
    {
      "cell_type": "code",
      "metadata": {
        "id": "MJ1WIyXjw0Uz",
        "colab_type": "code",
        "colab": {
          "base_uri": "https://localhost:8080/",
          "height": 228
        },
        "outputId": "ac8f951f-146a-4a88-91e1-dc74952ccc06"
      },
      "source": [
        "#df = pd.read_csv('USD_INR.csv')\n",
        "df['Date'] = pd.to_datetime(df[\"Date\"])\n",
        "df_idx = df.set_index([\"Date\"], drop=True)\n",
        "df_idx.head(5)"
      ],
      "execution_count": 5,
      "outputs": [
        {
          "output_type": "execute_result",
          "data": {
            "text/html": [
              "<div>\n",
              "<style scoped>\n",
              "    .dataframe tbody tr th:only-of-type {\n",
              "        vertical-align: middle;\n",
              "    }\n",
              "\n",
              "    .dataframe tbody tr th {\n",
              "        vertical-align: top;\n",
              "    }\n",
              "\n",
              "    .dataframe thead th {\n",
              "        text-align: right;\n",
              "    }\n",
              "</style>\n",
              "<table border=\"1\" class=\"dataframe\">\n",
              "  <thead>\n",
              "    <tr style=\"text-align: right;\">\n",
              "      <th></th>\n",
              "      <th>Price</th>\n",
              "      <th>Open</th>\n",
              "      <th>High</th>\n",
              "      <th>Low</th>\n",
              "      <th>Change %</th>\n",
              "    </tr>\n",
              "    <tr>\n",
              "      <th>Date</th>\n",
              "      <th></th>\n",
              "      <th></th>\n",
              "      <th></th>\n",
              "      <th></th>\n",
              "      <th></th>\n",
              "    </tr>\n",
              "  </thead>\n",
              "  <tbody>\n",
              "    <tr>\n",
              "      <th>2017-08-10</th>\n",
              "      <td>64.165</td>\n",
              "      <td>63.898</td>\n",
              "      <td>64.175</td>\n",
              "      <td>63.855</td>\n",
              "      <td>0.48</td>\n",
              "    </tr>\n",
              "    <tr>\n",
              "      <th>2017-08-09</th>\n",
              "      <td>63.860</td>\n",
              "      <td>63.780</td>\n",
              "      <td>63.860</td>\n",
              "      <td>63.710</td>\n",
              "      <td>0.26</td>\n",
              "    </tr>\n",
              "    <tr>\n",
              "      <th>2017-08-08</th>\n",
              "      <td>63.692</td>\n",
              "      <td>63.750</td>\n",
              "      <td>63.785</td>\n",
              "      <td>63.615</td>\n",
              "      <td>-0.23</td>\n",
              "    </tr>\n",
              "    <tr>\n",
              "      <th>2017-08-07</th>\n",
              "      <td>63.840</td>\n",
              "      <td>63.710</td>\n",
              "      <td>63.865</td>\n",
              "      <td>63.648</td>\n",
              "      <td>0.26</td>\n",
              "    </tr>\n",
              "    <tr>\n",
              "      <th>2017-08-04</th>\n",
              "      <td>63.675</td>\n",
              "      <td>63.670</td>\n",
              "      <td>63.786</td>\n",
              "      <td>63.572</td>\n",
              "      <td>-0.05</td>\n",
              "    </tr>\n",
              "  </tbody>\n",
              "</table>\n",
              "</div>"
            ],
            "text/plain": [
              "             Price    Open    High     Low  Change %\n",
              "Date                                                \n",
              "2017-08-10  64.165  63.898  64.175  63.855      0.48\n",
              "2017-08-09  63.860  63.780  63.860  63.710      0.26\n",
              "2017-08-08  63.692  63.750  63.785  63.615     -0.23\n",
              "2017-08-07  63.840  63.710  63.865  63.648      0.26\n",
              "2017-08-04  63.675  63.670  63.786  63.572     -0.05"
            ]
          },
          "metadata": {
            "tags": []
          },
          "execution_count": 5
        }
      ]
    },
    {
      "cell_type": "code",
      "metadata": {
        "id": "66DD_pbZxPC6",
        "colab_type": "code",
        "colab": {}
      },
      "source": [
        "df_idx = df_idx.sort_index(axis=1, ascending=True)\n",
        "df_idx = df_idx.iloc[::-1]"
      ],
      "execution_count": 0,
      "outputs": []
    },
    {
      "cell_type": "code",
      "metadata": {
        "id": "DuHX40IP1BT9",
        "colab_type": "code",
        "colab": {
          "base_uri": "https://localhost:8080/",
          "height": 228
        },
        "outputId": "50a5a20e-d817-4171-a2e9-268d180c9097"
      },
      "source": [
        "df_idx.head(5)"
      ],
      "execution_count": 7,
      "outputs": [
        {
          "output_type": "execute_result",
          "data": {
            "text/html": [
              "<div>\n",
              "<style scoped>\n",
              "    .dataframe tbody tr th:only-of-type {\n",
              "        vertical-align: middle;\n",
              "    }\n",
              "\n",
              "    .dataframe tbody tr th {\n",
              "        vertical-align: top;\n",
              "    }\n",
              "\n",
              "    .dataframe thead th {\n",
              "        text-align: right;\n",
              "    }\n",
              "</style>\n",
              "<table border=\"1\" class=\"dataframe\">\n",
              "  <thead>\n",
              "    <tr style=\"text-align: right;\">\n",
              "      <th></th>\n",
              "      <th>Change %</th>\n",
              "      <th>High</th>\n",
              "      <th>Low</th>\n",
              "      <th>Open</th>\n",
              "      <th>Price</th>\n",
              "    </tr>\n",
              "    <tr>\n",
              "      <th>Date</th>\n",
              "      <th></th>\n",
              "      <th></th>\n",
              "      <th></th>\n",
              "      <th></th>\n",
              "      <th></th>\n",
              "    </tr>\n",
              "  </thead>\n",
              "  <tbody>\n",
              "    <tr>\n",
              "      <th>1980-01-02</th>\n",
              "      <td>0.00</td>\n",
              "      <td>8.00</td>\n",
              "      <td>8.00</td>\n",
              "      <td>8.00</td>\n",
              "      <td>8.00</td>\n",
              "    </tr>\n",
              "    <tr>\n",
              "      <th>1980-01-03</th>\n",
              "      <td>-0.63</td>\n",
              "      <td>7.95</td>\n",
              "      <td>7.95</td>\n",
              "      <td>7.95</td>\n",
              "      <td>7.95</td>\n",
              "    </tr>\n",
              "    <tr>\n",
              "      <th>1980-01-04</th>\n",
              "      <td>1.26</td>\n",
              "      <td>8.05</td>\n",
              "      <td>8.05</td>\n",
              "      <td>8.05</td>\n",
              "      <td>8.05</td>\n",
              "    </tr>\n",
              "    <tr>\n",
              "      <th>1980-01-07</th>\n",
              "      <td>0.00</td>\n",
              "      <td>8.05</td>\n",
              "      <td>8.05</td>\n",
              "      <td>8.05</td>\n",
              "      <td>8.05</td>\n",
              "    </tr>\n",
              "    <tr>\n",
              "      <th>1980-01-08</th>\n",
              "      <td>0.00</td>\n",
              "      <td>8.05</td>\n",
              "      <td>8.05</td>\n",
              "      <td>8.05</td>\n",
              "      <td>8.05</td>\n",
              "    </tr>\n",
              "  </tbody>\n",
              "</table>\n",
              "</div>"
            ],
            "text/plain": [
              "            Change %  High   Low  Open  Price\n",
              "Date                                         \n",
              "1980-01-02      0.00  8.00  8.00  8.00   8.00\n",
              "1980-01-03     -0.63  7.95  7.95  7.95   7.95\n",
              "1980-01-04      1.26  8.05  8.05  8.05   8.05\n",
              "1980-01-07      0.00  8.05  8.05  8.05   8.05\n",
              "1980-01-08      0.00  8.05  8.05  8.05   8.05"
            ]
          },
          "metadata": {
            "tags": []
          },
          "execution_count": 7
        }
      ]
    },
    {
      "cell_type": "code",
      "metadata": {
        "id": "EPPK0XrE1UzN",
        "colab_type": "code",
        "colab": {
          "base_uri": "https://localhost:8080/",
          "height": 292
        },
        "outputId": "f7a55f3b-fed5-4612-b0a4-659e2c0c2a6f"
      },
      "source": [
        "data = df_idx[['Price']]\n",
        "data.plot(y='Price')"
      ],
      "execution_count": 8,
      "outputs": [
        {
          "output_type": "execute_result",
          "data": {
            "text/plain": [
              "<matplotlib.axes._subplots.AxesSubplot at 0x7f0cab7aba58>"
            ]
          },
          "metadata": {
            "tags": []
          },
          "execution_count": 8
        },
        {
          "output_type": "display_data",
          "data": {
            "image/png": "[encoded data removed]",
            "text/plain": [
              "<Figure size 432x288 with 1 Axes>"
            ]
          },
          "metadata": {
            "tags": []
          }
        }
      ]
    },
    {
      "cell_type": "code",
      "metadata": {
        "id": "5lswXeRr6Ty-",
        "colab_type": "code",
        "colab": {
          "base_uri": "https://localhost:8080/",
          "height": 54
        },
        "outputId": "383faf01-1f5a-4811-faf5-2de0c8af1e68"
      },
      "source": [
        "diff = data.index.values[-1] - data.index.values[0]\n",
        "days = diff.astype('timedelta64[D]')\n",
        "days = days / np.timedelta64(1, 'D')\n",
        "years = int(days/365)\n",
        "print(\"Total data: %d years\"%years)\n",
        "print(\"80 percent data = 1980 to %d\"%(1980 + int(0.8*years)))"
      ],
      "execution_count": 9,
      "outputs": [
        {
          "output_type": "stream",
          "text": [
            "Total data: 37 years\n",
            "80 percent data = 1980 to 2009\n"
          ],
          "name": "stdout"
        }
      ]
    },
    {
      "cell_type": "code",
      "metadata": {
        "id": "YbvJ9io_6jUi",
        "colab_type": "code",
        "colab": {
          "base_uri": "https://localhost:8080/",
          "height": 371
        },
        "outputId": "d283ee63-b77f-43f7-bc49-bb9d45f45ef1"
      },
      "source": [
        "split_date = pd.Timestamp('01-01-2009')\n",
        "\n",
        "train = data.loc[:split_date]\n",
        "test = data.loc[split_date:]\n",
        "\n",
        "ax = train.plot(figsize=(12,6))\n",
        "test.plot(ax=ax)\n",
        "plt.legend(['train', 'test'])\n",
        "plt.show()"
      ],
      "execution_count": 11,
      "outputs": [
        {
          "output_type": "display_data",
          "data": {
            "image/png": "[encoded data removed]",
            "text/plain": [
              "<Figure size 864x432 with 1 Axes>"
            ]
          },
          "metadata": {
            "tags": []
          }
        }
      ]
    },
    {
      "cell_type": "code",
      "metadata": {
        "id": "rEFIA4Gk6qEQ",
        "colab_type": "code",
        "colab": {}
      },
      "source": [
        "from sklearn.preprocessing import MinMaxScaler\n",
        "sc = MinMaxScaler()\n",
        "train_sc = sc.fit_transform(train)\n",
        "test_sc = sc.transform(test)\n"
      ],
      "execution_count": 0,
      "outputs": []
    },
    {
      "cell_type": "code",
      "metadata": {
        "id": "jAILuKP-677L",
        "colab_type": "code",
        "colab": {
          "base_uri": "https://localhost:8080/",
          "height": 146
        },
        "outputId": "fee771ff-11cf-42af-9d04-e8610bbc1311"
      },
      "source": [
        "train_sc_df = pd.DataFrame(train_sc, columns=['Y'], index=train.index)\n",
        "test_sc_df = pd.DataFrame(test_sc, columns=['Y'], index=test.index)\n",
        "\n",
        "for s in range(1,2):\n",
        "    train_sc_df['X_{}'.format(s)] = train_sc_df['Y'].shift(s)\n",
        "    test_sc_df['X_{}'.format(s)] = test_sc_df['Y'].shift(s)\n",
        "\n",
        "X_train = train_sc_df.dropna().drop('Y', axis=1)\n",
        "y_train = train_sc_df.dropna().drop('X_1', axis=1)\n",
        "\n",
        "X_test = test_sc_df.dropna().drop('Y', axis=1)\n",
        "y_test = test_sc_df.dropna().drop('X_1', axis=1)\n",
        "\n",
        "X_train = X_train.as_matrix()\n",
        "y_train = y_train.as_matrix()\n",
        "\n",
        "X_test = X_test.as_matrix()\n",
        "y_test = y_test.as_matrix()"
      ],
      "execution_count": 13,
      "outputs": [
        {
          "output_type": "stream",
          "text": [
            "/usr/local/lib/python3.6/dist-packages/ipykernel_launcher.py:14: FutureWarning: Method .as_matrix will be removed in a future version. Use .values instead.\n",
            "  \n",
            "/usr/local/lib/python3.6/dist-packages/ipykernel_launcher.py:15: FutureWarning: Method .as_matrix will be removed in a future version. Use .values instead.\n",
            "  from ipykernel import kernelapp as app\n",
            "/usr/local/lib/python3.6/dist-packages/ipykernel_launcher.py:17: FutureWarning: Method .as_matrix will be removed in a future version. Use .values instead.\n",
            "/usr/local/lib/python3.6/dist-packages/ipykernel_launcher.py:18: FutureWarning: Method .as_matrix will be removed in a future version. Use .values instead.\n"
          ],
          "name": "stderr"
        }
      ]
    },
    {
      "cell_type": "code",
      "metadata": {
        "id": "Hmpraf1m7Kab",
        "colab_type": "code",
        "colab": {
          "base_uri": "https://localhost:8080/",
          "height": 54
        },
        "outputId": "ca32aa85-d875-4850-a435-72701c1d8282"
      },
      "source": [
        "print('Train size: (%d x %d)'%(X_train.shape[0], X_train.shape[1]))\n",
        "print('Test size: (%d x %d)'%(X_test.shape[0], X_test.shape[1]))\n"
      ],
      "execution_count": 14,
      "outputs": [
        {
          "output_type": "stream",
          "text": [
            "Train size: (7451 x 1)\n",
            "Test size: (2245 x 1)\n"
          ],
          "name": "stdout"
        }
      ]
    },
    {
      "cell_type": "markdown",
      "metadata": {
        "id": "buNjTWNo7tak",
        "colab_type": "text"
      },
      "source": [
        "### Training a baseline model SVM regressor"
      ]
    },
    {
      "cell_type": "code",
      "metadata": {
        "id": "4YgaiLeI7Q9R",
        "colab_type": "code",
        "colab": {}
      },
      "source": [
        "from sklearn.svm import SVR\n",
        "regressor = SVR(kernel='rbf')"
      ],
      "execution_count": 0,
      "outputs": []
    },
    {
      "cell_type": "code",
      "metadata": {
        "id": "JHrOZWWL7XdO",
        "colab_type": "code",
        "colab": {
          "base_uri": "https://localhost:8080/",
          "height": 110
        },
        "outputId": "3293119d-3bb8-4d9a-a81e-bc2cc00b142e"
      },
      "source": [
        "regressor.fit(X_train, y_train)\n",
        "y_pred = regressor.predict(X_test)"
      ],
      "execution_count": 19,
      "outputs": [
        {
          "output_type": "stream",
          "text": [
            "/usr/local/lib/python3.6/dist-packages/sklearn/utils/validation.py:724: DataConversionWarning: A column-vector y was passed when a 1d array was expected. Please change the shape of y to (n_samples, ), for example using ravel().\n",
            "  y = column_or_1d(y, warn=True)\n",
            "/usr/local/lib/python3.6/dist-packages/sklearn/svm/base.py:193: FutureWarning: The default value of gamma will change from 'auto' to 'scale' in version 0.22 to account better for unscaled features. Set gamma explicitly to 'auto' or 'scale' to avoid this warning.\n",
            "  \"avoid this warning.\", FutureWarning)\n"
          ],
          "name": "stderr"
        }
      ]
    },
    {
      "cell_type": "code",
      "metadata": {
        "id": "fUouplQt7lv7",
        "colab_type": "code",
        "colab": {
          "base_uri": "https://localhost:8080/",
          "height": 287
        },
        "outputId": "1b11e50b-fb41-4e30-f6b3-3c571ebeab92"
      },
      "source": [
        "plt.plot(y_test)\n",
        "plt.plot(y_pred)"
      ],
      "execution_count": 20,
      "outputs": [
        {
          "output_type": "execute_result",
          "data": {
            "text/plain": [
              "[<matplotlib.lines.Line2D at 0x7f0c9cb4d9e8>]"
            ]
          },
          "metadata": {
            "tags": []
          },
          "execution_count": 20
        },
        {
          "output_type": "display_data",
          "data": {
            "image/png": "[encoded data removed]",
            "text/plain": [
              "<Figure size 432x288 with 1 Axes>"
            ]
          },
          "metadata": {
            "tags": []
          }
        }
      ]
    },
    {
      "cell_type": "code",
      "metadata": {
        "id": "xf4K_D4t8BC2",
        "colab_type": "code",
        "colab": {
          "base_uri": "https://localhost:8080/",
          "height": 35
        },
        "outputId": "1ef62cb6-cc10-40d5-fd5e-3b7e95b1e818"
      },
      "source": [
        "from sklearn.metrics import r2_score\n",
        "\n",
        "def adj_r2_score(r2, n, k):\n",
        "    return 1-((1-r2)*((n-1)/(n-k-1)))\n",
        "\n",
        "r2_test = r2_score(y_test, y_pred)\n",
        "print(\"R-squared is: %f\"%r2_test)"
      ],
      "execution_count": 21,
      "outputs": [
        {
          "output_type": "stream",
          "text": [
            "R-squared is: -0.963381\n"
          ],
          "name": "stdout"
        }
      ]
    },
    {
      "cell_type": "code",
      "metadata": {
        "id": "J9T4XrPp8M50",
        "colab_type": "code",
        "colab": {
          "base_uri": "https://localhost:8080/",
          "height": 35
        },
        "outputId": "4e9a1c55-5d04-4e78-a741-3bc122b5c462"
      },
      "source": [
        "from keras.models import Sequential\n",
        "from keras.layers import Dense\n",
        "from keras.optimizers import Adam\n",
        "import keras.backend as K"
      ],
      "execution_count": 22,
      "outputs": [
        {
          "output_type": "stream",
          "text": [
            "Using TensorFlow backend.\n"
          ],
          "name": "stderr"
        }
      ]
    },
    {
      "cell_type": "code",
      "metadata": {
        "id": "Gz8jOQRf8YwQ",
        "colab_type": "code",
        "colab": {
          "base_uri": "https://localhost:8080/",
          "height": 892
        },
        "outputId": "6fdb967a-06fb-4660-c9d4-1360c792ed5f"
      },
      "source": [
        "K.clear_session()\n",
        "model = Sequential()\n",
        "model.add(Dense(1, input_shape=(X_test.shape[1],), activation='tanh', kernel_initializer='lecun_uniform'))\n",
        "model.compile(optimizer=Adam(lr=0.001), loss='mean_squared_error')\n",
        "model.fit(X_train, y_train, batch_size=16, epochs=20, verbose=1)"
      ],
      "execution_count": 23,
      "outputs": [
        {
          "output_type": "stream",
          "text": [
            "WARNING:tensorflow:From /usr/local/lib/python3.6/dist-packages/tensorflow/python/framework/op_def_library.py:263: colocate_with (from tensorflow.python.framework.ops) is deprecated and will be removed in a future version.\n",
            "Instructions for updating:\n",
            "Colocations handled automatically by placer.\n",
            "WARNING:tensorflow:From /usr/local/lib/python3.6/dist-packages/tensorflow/python/ops/math_ops.py:3066: to_int32 (from tensorflow.python.ops.math_ops) is deprecated and will be removed in a future version.\n",
            "Instructions for updating:\n",
            "Use tf.cast instead.\n",
            "Epoch 1/20\n",
            "7451/7451 [==============================] - 1s 122us/step - loss: 0.0110\n",
            "Epoch 2/20\n",
            "7451/7451 [==============================] - 0s 50us/step - loss: 0.0041\n",
            "Epoch 3/20\n",
            "7451/7451 [==============================] - 0s 47us/step - loss: 0.0027\n",
            "Epoch 4/20\n",
            "7451/7451 [==============================] - 0s 48us/step - loss: 0.0025\n",
            "Epoch 5/20\n",
            "7451/7451 [==============================] - 0s 46us/step - loss: 0.0024\n",
            "Epoch 6/20\n",
            "7451/7451 [==============================] - 0s 45us/step - loss: 0.0024\n",
            "Epoch 7/20\n",
            "7451/7451 [==============================] - 0s 45us/step - loss: 0.0024\n",
            "Epoch 8/20\n",
            "7451/7451 [==============================] - 0s 45us/step - loss: 0.0024\n",
            "Epoch 9/20\n",
            "7451/7451 [==============================] - 0s 45us/step - loss: 0.0024\n",
            "Epoch 10/20\n",
            "7451/7451 [==============================] - 0s 45us/step - loss: 0.0024\n",
            "Epoch 11/20\n",
            "7451/7451 [==============================] - 0s 45us/step - loss: 0.0024\n",
            "Epoch 12/20\n",
            "7451/7451 [==============================] - 0s 45us/step - loss: 0.0024\n",
            "Epoch 13/20\n",
            "7451/7451 [==============================] - 0s 45us/step - loss: 0.0024\n",
            "Epoch 14/20\n",
            "7451/7451 [==============================] - 0s 47us/step - loss: 0.0024\n",
            "Epoch 15/20\n",
            "7451/7451 [==============================] - 0s 46us/step - loss: 0.0024\n",
            "Epoch 16/20\n",
            "7451/7451 [==============================] - 0s 45us/step - loss: 0.0024\n",
            "Epoch 17/20\n",
            "7451/7451 [==============================] - 0s 45us/step - loss: 0.0024\n",
            "Epoch 18/20\n",
            "7451/7451 [==============================] - 0s 45us/step - loss: 0.0024\n",
            "Epoch 19/20\n",
            "7451/7451 [==============================] - 0s 46us/step - loss: 0.0024\n",
            "Epoch 20/20\n",
            "7451/7451 [==============================] - 0s 45us/step - loss: 0.0024\n"
          ],
          "name": "stdout"
        },
        {
          "output_type": "execute_result",
          "data": {
            "text/plain": [
              "<keras.callbacks.History at 0x7f0c8be715c0>"
            ]
          },
          "metadata": {
            "tags": []
          },
          "execution_count": 23
        }
      ]
    },
    {
      "cell_type": "code",
      "metadata": {
        "id": "ckwBnzr88nXK",
        "colab_type": "code",
        "colab": {
          "base_uri": "https://localhost:8080/",
          "height": 287
        },
        "outputId": "b7bef090-ce3d-4d15-a9f9-e175c18583c3"
      },
      "source": [
        "y_pred = model.predict(X_test)\n",
        "plt.plot(y_test)\n",
        "plt.plot(y_pred)\n",
        "print('R-Squared: %f'%(r2_score(y_test, y_pred)))"
      ],
      "execution_count": 24,
      "outputs": [
        {
          "output_type": "stream",
          "text": [
            "R-Squared: -1.163679\n"
          ],
          "name": "stdout"
        },
        {
          "output_type": "display_data",
          "data": {
            "image/png": "[encoded data removed]",
            "text/plain": [
              "<Figure size 432x288 with 1 Axes>"
            ]
          },
          "metadata": {
            "tags": []
          }
        }
      ]
    },
    {
      "cell_type": "markdown",
      "metadata": {
        "id": "g7rK0-aV9IGj",
        "colab_type": "text"
      },
      "source": [
        ""
      ]
    },
    {
      "cell_type": "code",
      "metadata": {
        "id": "KIKTCYmM85rN",
        "colab_type": "code",
        "colab": {
          "base_uri": "https://localhost:8080/",
          "height": 763
        },
        "outputId": "97313846-0181-4baa-d6e0-ccda75713a4c"
      },
      "source": [
        "K.clear_session()\n",
        "model = Sequential()\n",
        "model.add(Dense(50, input_shape=(X_test.shape[1],), activation='relu', kernel_initializer='lecun_uniform'))\n",
        "model.add(Dense(50, input_shape=(X_test.shape[1],), activation='relu'))\n",
        "model.add(Dense(1))\n",
        "model.compile(optimizer=Adam(lr=0.001), loss='mean_squared_error')\n",
        "model.fit(X_train, y_train, batch_size=16, epochs=20, verbose=1)"
      ],
      "execution_count": 25,
      "outputs": [
        {
          "output_type": "stream",
          "text": [
            "Epoch 1/20\n",
            "7451/7451 [==============================] - 1s 94us/step - loss: 0.0055\n",
            "Epoch 2/20\n",
            "7451/7451 [==============================] - 1s 72us/step - loss: 1.0905e-05\n",
            "Epoch 3/20\n",
            "7451/7451 [==============================] - 0s 65us/step - loss: 1.0322e-05\n",
            "Epoch 4/20\n",
            "7451/7451 [==============================] - 0s 58us/step - loss: 1.1510e-05\n",
            "Epoch 5/20\n",
            "7451/7451 [==============================] - 0s 60us/step - loss: 1.2637e-05\n",
            "Epoch 6/20\n",
            "7451/7451 [==============================] - 0s 59us/step - loss: 1.4207e-05\n",
            "Epoch 7/20\n",
            "7451/7451 [==============================] - 0s 58us/step - loss: 1.4394e-05\n",
            "Epoch 8/20\n",
            "7451/7451 [==============================] - 0s 58us/step - loss: 1.5755e-05\n",
            "Epoch 9/20\n",
            "7451/7451 [==============================] - 0s 58us/step - loss: 1.7001e-05\n",
            "Epoch 10/20\n",
            "7451/7451 [==============================] - 0s 58us/step - loss: 1.8387e-05\n",
            "Epoch 11/20\n",
            "7451/7451 [==============================] - 0s 58us/step - loss: 2.5317e-05\n",
            "Epoch 12/20\n",
            "7451/7451 [==============================] - 0s 59us/step - loss: 2.0198e-05\n",
            "Epoch 13/20\n",
            "7451/7451 [==============================] - 0s 58us/step - loss: 3.3021e-05\n",
            "Epoch 14/20\n",
            "7451/7451 [==============================] - 0s 57us/step - loss: 4.3245e-05\n",
            "Epoch 15/20\n",
            "7451/7451 [==============================] - 0s 58us/step - loss: 2.9754e-05\n",
            "Epoch 16/20\n",
            "7451/7451 [==============================] - 0s 57us/step - loss: 2.2018e-05\n",
            "Epoch 17/20\n",
            "7451/7451 [==============================] - 0s 58us/step - loss: 1.9012e-05\n",
            "Epoch 18/20\n",
            "7451/7451 [==============================] - 0s 58us/step - loss: 1.8254e-05\n",
            "Epoch 19/20\n",
            "7451/7451 [==============================] - 0s 57us/step - loss: 2.2910e-05\n",
            "Epoch 20/20\n",
            "7451/7451 [==============================] - 0s 57us/step - loss: 3.3203e-05\n"
          ],
          "name": "stdout"
        },
        {
          "output_type": "execute_result",
          "data": {
            "text/plain": [
              "<keras.callbacks.History at 0x7f0c87498828>"
            ]
          },
          "metadata": {
            "tags": []
          },
          "execution_count": 25
        }
      ]
    },
    {
      "cell_type": "code",
      "metadata": {
        "id": "fOmh94tC9J8t",
        "colab_type": "code",
        "colab": {
          "base_uri": "https://localhost:8080/",
          "height": 287
        },
        "outputId": "3b8a8f6d-ce6d-444c-c3dc-d1ead1151b36"
      },
      "source": [
        "y_pred = model.predict(X_test)\n",
        "plt.plot(y_test)\n",
        "plt.plot(y_pred)\n",
        "print('R-Squared: %f'%(r2_score(y_test, y_pred)))"
      ],
      "execution_count": 26,
      "outputs": [
        {
          "output_type": "stream",
          "text": [
            "R-Squared: 0.998799\n"
          ],
          "name": "stdout"
        },
        {
          "output_type": "display_data",
          "data": {
            "image/png": "[encoded data removed]",
            "text/plain": [
              "<Figure size 432x288 with 1 Axes>"
            ]
          },
          "metadata": {
            "tags": []
          }
        }
      ]
    },
    {
      "cell_type": "code",
      "metadata": {
        "id": "lYRPrsb-9ZXM",
        "colab_type": "code",
        "colab": {
          "base_uri": "https://localhost:8080/",
          "height": 399
        },
        "outputId": "a209581b-3284-4a8f-856d-07eda2bb03ee"
      },
      "source": [
        "K.clear_session()\n",
        "model = Sequential()\n",
        "model.add(Dense(50, input_shape=(X_test.shape[1],), activation='relu', kernel_initializer='lecun_uniform'))\n",
        "model.add(Dense(50, input_shape=(X_test.shape[1],), activation='relu'))\n",
        "model.add(Dense(50, input_shape=(X_test.shape[1],), activation='relu'))\n",
        "model.add(Dense(1))\n",
        "model.compile(optimizer=Adam(lr=0.001), loss='mean_squared_error')\n",
        "model.fit(X_train, y_train, batch_size=32, epochs=10, verbose=1)"
      ],
      "execution_count": 29,
      "outputs": [
        {
          "output_type": "stream",
          "text": [
            "Epoch 1/10\n",
            "7451/7451 [==============================] - 0s 65us/step - loss: 0.0029\n",
            "Epoch 2/10\n",
            "7451/7451 [==============================] - 0s 35us/step - loss: 9.2119e-06\n",
            "Epoch 3/10\n",
            "7451/7451 [==============================] - 0s 40us/step - loss: 9.6531e-06\n",
            "Epoch 4/10\n",
            "7451/7451 [==============================] - 0s 38us/step - loss: 8.9669e-06\n",
            "Epoch 5/10\n",
            "7451/7451 [==============================] - 0s 37us/step - loss: 9.5424e-06\n",
            "Epoch 6/10\n",
            "7451/7451 [==============================] - 0s 35us/step - loss: 1.0689e-05\n",
            "Epoch 7/10\n",
            "7451/7451 [==============================] - 0s 33us/step - loss: 9.3326e-06\n",
            "Epoch 8/10\n",
            "7451/7451 [==============================] - 0s 33us/step - loss: 1.0748e-05\n",
            "Epoch 9/10\n",
            "7451/7451 [==============================] - 0s 35us/step - loss: 1.0733e-05\n",
            "Epoch 10/10\n",
            "7451/7451 [==============================] - 0s 33us/step - loss: 1.0463e-05\n"
          ],
          "name": "stdout"
        },
        {
          "output_type": "execute_result",
          "data": {
            "text/plain": [
              "<keras.callbacks.History at 0x7f0c83449dd8>"
            ]
          },
          "metadata": {
            "tags": []
          },
          "execution_count": 29
        }
      ]
    },
    {
      "cell_type": "code",
      "metadata": {
        "id": "_xpRbCPb9yyE",
        "colab_type": "code",
        "colab": {
          "base_uri": "https://localhost:8080/",
          "height": 287
        },
        "outputId": "7c5915d6-4cb5-4a93-cca0-f98be63f3e17"
      },
      "source": [
        "y_pred = model.predict(X_test)\n",
        "plt.plot(y_test)\n",
        "plt.plot(y_pred)\n",
        "print('R-Squared: %f'%(r2_score(y_test, y_pred)))"
      ],
      "execution_count": 31,
      "outputs": [
        {
          "output_type": "stream",
          "text": [
            "R-Squared: 0.998799\n"
          ],
          "name": "stdout"
        },
        {
          "output_type": "display_data",
          "data": {
            "image/png": "[encoded data removed]",
            "text/plain": [
              "<Figure size 432x288 with 1 Axes>"
            ]
          },
          "metadata": {
            "tags": []
          }
        }
      ]
    },
    {
      "cell_type": "code",
      "metadata": {
        "id": "oR50RsuF96ZM",
        "colab_type": "code",
        "colab": {}
      },
      "source": [
        ""
      ],
      "execution_count": 0,
      "outputs": []
    }
  ]
}